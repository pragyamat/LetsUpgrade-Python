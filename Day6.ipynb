{
 "cells": [
  {
   "cell_type": "markdown",
   "metadata": {},
   "source": [
    "# Question 1\n",
    "For this challenge,create a bank account class that has two attributes\n",
    "\n",
    "*ownerName\n",
    "\n",
    "*Balance\n",
    "\n",
    "And two methods\n",
    "\n",
    "*deposit\n",
    "\n",
    "*withdraw\n",
    "\n",
    "As an added requirement,withdrawals may not exceed the available balance.\n",
    "Instantiate your class,make several deposits and withdrawals,and test to make sure the account\n",
    "cant be overdrawn."
   ]
  },
  {
   "cell_type": "code",
   "execution_count": 1,
   "metadata": {},
   "outputs": [],
   "source": [
    "class bank_account():\n",
    "    def __init__(self, ownername, balance):\n",
    "        self.ownername = ownername\n",
    "        self.balance = balance\n",
    "\n",
    "    def getDetails(self):\n",
    "        print(\"OwnerName : \",self.ownername)\n",
    "        print(\"Balance : \",self.balance)\n",
    "\n",
    "    def deposits(self, money_paid):\n",
    "        self.money_paid = pay(money_paid)\n",
    "        print(\"Money Deposited : \",self.money_paid)\n",
    "        print(\"Total Money in the Account is : \",self.balance + self.money_paid)\n",
    "        self.balance = self.balance + self.money_paid\n",
    "\n",
    "    def withdraw(self, money_withdraw):\n",
    "        self.money_withdraw = draw(money_withdraw)\n",
    "        if self.balance < money_withdraw:\n",
    "          print(\"Money can not be Withdrawn as there is Insuficient Balance in the Account\")\n",
    "          print(\"Amount in your Account is : \", self.balance)\n",
    "        else:\n",
    "          print(\"Money Withdrawn : \",self.money_withdraw)\n",
    "          print(\"Total Money in the Account is : \",self.balance - self.money_withdraw)\n",
    "        self.balance = self.balance - self.money_withdraw\n",
    "\n",
    "def pay(money_paid):\n",
    "     return money_paid \n",
    "\n",
    "def draw(money_drawn):\n",
    "       return money_drawn"
   ]
  },
  {
   "cell_type": "code",
   "execution_count": 2,
   "metadata": {},
   "outputs": [],
   "source": [
    "HDFC = bank_account(\"Ramesh\",700000)"
   ]
  },
  {
   "cell_type": "code",
   "execution_count": 3,
   "metadata": {},
   "outputs": [
    {
     "name": "stdout",
     "output_type": "stream",
     "text": [
      "OwnerName :  Ramesh\n",
      "Balance :  700000\n"
     ]
    }
   ],
   "source": [
    "HDFC.getDetails()"
   ]
  },
  {
   "cell_type": "code",
   "execution_count": 4,
   "metadata": {},
   "outputs": [
    {
     "name": "stdout",
     "output_type": "stream",
     "text": [
      "Money Deposited :  6000\n",
      "Total Money in the Account is :  706000\n"
     ]
    }
   ],
   "source": [
    "HDFC.deposits(6000)"
   ]
  },
  {
   "cell_type": "code",
   "execution_count": 5,
   "metadata": {},
   "outputs": [
    {
     "name": "stdout",
     "output_type": "stream",
     "text": [
      "Money Withdrawn :  5000\n",
      "Total Money in the Account is :  701000\n"
     ]
    }
   ],
   "source": [
    "HDFC.withdraw(5000)"
   ]
  },
  {
   "cell_type": "code",
   "execution_count": 6,
   "metadata": {},
   "outputs": [
    {
     "name": "stdout",
     "output_type": "stream",
     "text": [
      "Money Withdrawn :  10000\n",
      "Total Money in the Account is :  691000\n"
     ]
    }
   ],
   "source": [
    "HDFC.withdraw(10000)"
   ]
  },
  {
   "cell_type": "code",
   "execution_count": 7,
   "metadata": {},
   "outputs": [
    {
     "name": "stdout",
     "output_type": "stream",
     "text": [
      "Money Deposited :  20000\n",
      "Total Money in the Account is :  711000\n"
     ]
    }
   ],
   "source": [
    "HDFC.deposits(20000)"
   ]
  },
  {
   "cell_type": "code",
   "execution_count": 8,
   "metadata": {},
   "outputs": [
    {
     "name": "stdout",
     "output_type": "stream",
     "text": [
      "Money Withdrawn :  250000\n",
      "Total Money in the Account is :  461000\n"
     ]
    }
   ],
   "source": [
    "HDFC.withdraw(250000)"
   ]
  },
  {
   "cell_type": "code",
   "execution_count": 9,
   "metadata": {},
   "outputs": [
    {
     "name": "stdout",
     "output_type": "stream",
     "text": [
      "Money can not be Withdrawn as there is Insuficient Balance in the Account\n",
      "Amount in your Account is :  461000\n"
     ]
    }
   ],
   "source": [
    "HDFC.withdraw(500000)"
   ]
  },
  {
   "cell_type": "markdown",
   "metadata": {},
   "source": [
    "# Question 2\n",
    "For this challenge,create a cone class that has two attributes:\n",
    "\n",
    "*R=Radius\n",
    "\n",
    "*h=Height\n",
    "\n",
    "And two methods:\n",
    "\n",
    "*Volume = Π * r2 = (h/3)\n",
    "\n",
    "*Surface area : base : Π * r2 , side : Π * r * √(r2 + h2)\n",
    "\n",
    "Make only one class with functions,as in where required import Math."
   ]
  },
  {
   "cell_type": "code",
   "execution_count": 10,
   "metadata": {},
   "outputs": [],
   "source": [
    "class cone():\n",
    "    def __init__(self, radius, height):\n",
    "        self.radius = radius\n",
    "        self.height = height\n",
    "\n",
    "    def getDetails(self):\n",
    "        print(\"Radius of a Cone is : \",self.radius)\n",
    "        print(\"Height of a Cone is : \",self.height)\n",
    "\n",
    "    def volume(self, r, h):\n",
    "        self.vol = vol(r, h)\n",
    "        print(\"Volume of a Cone is : \",self.vol)\n",
    "\n",
    "    def surface_area(self, r, h):\n",
    "        self.area = sur_area(r, h)\n",
    "        print(\"Surface Area of a Cone is : \",self.area)\n",
    "          \n",
    "def vol(radius, height):\n",
    "     v = 3.14*radius*radius*(height/3)\n",
    "     return v\n",
    "\n",
    "import math\n",
    "def sur_area(radius, height):\n",
    "     a = 3.14*radius*(radius + (math.sqrt(height*height + radius*radius)))\n",
    "     return a"
   ]
  },
  {
   "cell_type": "code",
   "execution_count": 14,
   "metadata": {},
   "outputs": [],
   "source": [
    "r = cone(7,6)"
   ]
  },
  {
   "cell_type": "code",
   "execution_count": 15,
   "metadata": {},
   "outputs": [
    {
     "name": "stdout",
     "output_type": "stream",
     "text": [
      "Radius of a Cone is :  7\n",
      "Height of a Cone is :  6\n"
     ]
    }
   ],
   "source": [
    "r.getDetails()"
   ]
  },
  {
   "cell_type": "code",
   "execution_count": 16,
   "metadata": {
    "scrolled": true
   },
   "outputs": [
    {
     "name": "stdout",
     "output_type": "stream",
     "text": [
      "Volume of a Cone is :  307.72\n"
     ]
    }
   ],
   "source": [
    "r.volume(7,6)"
   ]
  },
  {
   "cell_type": "code",
   "execution_count": 17,
   "metadata": {},
   "outputs": [
    {
     "name": "stdout",
     "output_type": "stream",
     "text": [
      "Surface Area of a Cone is :  356.5055871712977\n"
     ]
    }
   ],
   "source": [
    "r.surface_area(7,6)"
   ]
  }
 ],
 "metadata": {
  "kernelspec": {
   "display_name": "Python 3",
   "language": "python",
   "name": "python3"
  },
  "language_info": {
   "codemirror_mode": {
    "name": "ipython",
    "version": 3
   },
   "file_extension": ".py",
   "mimetype": "text/x-python",
   "name": "python",
   "nbconvert_exporter": "python",
   "pygments_lexer": "ipython3",
   "version": "3.8.3"
  }
 },
 "nbformat": 4,
 "nbformat_minor": 4
}
